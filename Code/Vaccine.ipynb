{
 "cells": [
  {
   "cell_type": "code",
   "execution_count": 2,
   "metadata": {
    "collapsed": true
   },
   "outputs": [],
   "source": [
    "import pandas as pd\n",
    "import numpy as np\n",
    "import json\n"
   ]
  },
  {
   "cell_type": "code",
   "execution_count": 3,
   "metadata": {
    "collapsed": true
   },
   "outputs": [],
   "source": [
    "# Store filepath in a variable\n",
    "flu_vacc_file1= \"Data/StatesVacc2015-16.csv\"\n",
    "flu_vacc_file2= \"Data/NYVacc2016-2017.csv\""
   ]
  },
  {
   "cell_type": "code",
   "execution_count": 5,
   "metadata": {
    "scrolled": true
   },
   "outputs": [
    {
     "data": {
      "text/html": [
       "<div>\n",
       "<style scoped>\n",
       "    .dataframe tbody tr th:only-of-type {\n",
       "        vertical-align: middle;\n",
       "    }\n",
       "\n",
       "    .dataframe tbody tr th {\n",
       "        vertical-align: top;\n",
       "    }\n",
       "\n",
       "    .dataframe thead th {\n",
       "        text-align: right;\n",
       "    }\n",
       "</style>\n",
       "<table border=\"1\" class=\"dataframe\">\n",
       "  <thead>\n",
       "    <tr style=\"text-align: right;\">\n",
       "      <th></th>\n",
       "      <th>Unnamed: 0</th>\n",
       "      <th>Jul</th>\n",
       "      <th>Sample</th>\n",
       "      <th>Aug</th>\n",
       "      <th>Sample.1</th>\n",
       "      <th>Sep</th>\n",
       "      <th>Sample.2</th>\n",
       "      <th>Oct</th>\n",
       "      <th>Sample.3</th>\n",
       "      <th>Nov</th>\n",
       "      <th>...</th>\n",
       "      <th>Jan</th>\n",
       "      <th>Sample.6</th>\n",
       "      <th>Feb</th>\n",
       "      <th>Sample.7</th>\n",
       "      <th>Mar</th>\n",
       "      <th>Sample.8</th>\n",
       "      <th>Apr</th>\n",
       "      <th>Sample.9</th>\n",
       "      <th>May</th>\n",
       "      <th>Sample.10</th>\n",
       "    </tr>\n",
       "  </thead>\n",
       "  <tbody>\n",
       "    <tr>\n",
       "      <th>0</th>\n",
       "      <td>&gt;=6 months</td>\n",
       "      <td>1.0</td>\n",
       "      <td>20948</td>\n",
       "      <td>2.7</td>\n",
       "      <td>20948</td>\n",
       "      <td>11.4</td>\n",
       "      <td>20948</td>\n",
       "      <td>28.7</td>\n",
       "      <td>20948</td>\n",
       "      <td>38.3</td>\n",
       "      <td>...</td>\n",
       "      <td>46.0</td>\n",
       "      <td>20948</td>\n",
       "      <td>47.9</td>\n",
       "      <td>20948</td>\n",
       "      <td>48.7</td>\n",
       "      <td>20948</td>\n",
       "      <td>49.2</td>\n",
       "      <td>20948</td>\n",
       "      <td>49.8</td>\n",
       "      <td>20948</td>\n",
       "    </tr>\n",
       "    <tr>\n",
       "      <th>1</th>\n",
       "      <td>&gt;=18 years</td>\n",
       "      <td>0.0</td>\n",
       "      <td>15337</td>\n",
       "      <td>1.7</td>\n",
       "      <td>15337</td>\n",
       "      <td>9.2</td>\n",
       "      <td>15337</td>\n",
       "      <td>25.6</td>\n",
       "      <td>15337</td>\n",
       "      <td>34.5</td>\n",
       "      <td>...</td>\n",
       "      <td>42.2</td>\n",
       "      <td>15337</td>\n",
       "      <td>44.0</td>\n",
       "      <td>15337</td>\n",
       "      <td>44.8</td>\n",
       "      <td>15337</td>\n",
       "      <td>45.2</td>\n",
       "      <td>15337</td>\n",
       "      <td>45.6</td>\n",
       "      <td>15337</td>\n",
       "    </tr>\n",
       "    <tr>\n",
       "      <th>2</th>\n",
       "      <td>18-64</td>\n",
       "      <td>0.0</td>\n",
       "      <td>10053</td>\n",
       "      <td>1.5</td>\n",
       "      <td>10053</td>\n",
       "      <td>8.2</td>\n",
       "      <td>10053</td>\n",
       "      <td>22.5</td>\n",
       "      <td>10053</td>\n",
       "      <td>30.1</td>\n",
       "      <td>...</td>\n",
       "      <td>37.1</td>\n",
       "      <td>10053</td>\n",
       "      <td>38.9</td>\n",
       "      <td>10053</td>\n",
       "      <td>39.4</td>\n",
       "      <td>10053</td>\n",
       "      <td>39.7</td>\n",
       "      <td>10053</td>\n",
       "      <td>39.9</td>\n",
       "      <td>10053</td>\n",
       "    </tr>\n",
       "  </tbody>\n",
       "</table>\n",
       "<p>3 rows × 23 columns</p>\n",
       "</div>"
      ],
      "text/plain": [
       "   Unnamed: 0  Jul  Sample  Aug  Sample.1   Sep  Sample.2   Oct  Sample.3  \\\n",
       "0  >=6 months  1.0   20948  2.7     20948  11.4     20948  28.7     20948   \n",
       "1  >=18 years  0.0   15337  1.7     15337   9.2     15337  25.6     15337   \n",
       "2       18-64  0.0   10053  1.5     10053   8.2     10053  22.5     10053   \n",
       "\n",
       "    Nov    ...       Jan  Sample.6   Feb  Sample.7   Mar  Sample.8   Apr  \\\n",
       "0  38.3    ...      46.0     20948  47.9     20948  48.7     20948  49.2   \n",
       "1  34.5    ...      42.2     15337  44.0     15337  44.8     15337  45.2   \n",
       "2  30.1    ...      37.1     10053  38.9     10053  39.4     10053  39.7   \n",
       "\n",
       "   Sample.9   May  Sample.10  \n",
       "0     20948  49.8      20948  \n",
       "1     15337  45.6      15337  \n",
       "2     10053  39.9      10053  \n",
       "\n",
       "[3 rows x 23 columns]"
      ]
     },
     "execution_count": 5,
     "metadata": {},
     "output_type": "execute_result"
    }
   ],
   "source": [
    "vacc15_16 = pd.read_csv(flu_vacc_file1)\n",
    "vacc16_17 = pd.read_csv(flu_vacc_file2)\n",
    "vacc16_17"
   ]
  },
  {
   "cell_type": "code",
   "execution_count": null,
   "metadata": {
    "collapsed": true
   },
   "outputs": [],
   "source": [
    "weatherdata = pd.read_csv(\"NYWeather.csv\")"
   ]
  },
  {
   "cell_type": "code",
   "execution_count": null,
   "metadata": {
    "collapsed": true
   },
   "outputs": [],
   "source": [
    "weatherdata.head()"
   ]
  },
  {
   "cell_type": "code",
   "execution_count": null,
   "metadata": {
    "collapsed": true
   },
   "outputs": [],
   "source": [
    "monthNYdata = pd.read_csv(\"MonthNYData.csv\")"
   ]
  },
  {
   "cell_type": "code",
   "execution_count": null,
   "metadata": {
    "collapsed": true
   },
   "outputs": [],
   "source": []
  },
  {
   "cell_type": "code",
   "execution_count": null,
   "metadata": {
    "collapsed": true
   },
   "outputs": [],
   "source": []
  }
 ],
 "metadata": {
  "kernelspec": {
   "display_name": "Python [default]",
   "language": "python",
   "name": "python3"
  },
  "language_info": {
   "codemirror_mode": {
    "name": "ipython",
    "version": 3
   },
   "file_extension": ".py",
   "mimetype": "text/x-python",
   "name": "python",
   "nbconvert_exporter": "python",
   "pygments_lexer": "ipython3",
   "version": "3.6.3"
  }
 },
 "nbformat": 4,
 "nbformat_minor": 2
}
