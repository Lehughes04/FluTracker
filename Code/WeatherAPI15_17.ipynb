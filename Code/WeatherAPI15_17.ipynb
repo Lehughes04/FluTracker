{
 "cells": [
  {
   "cell_type": "code",
   "execution_count": 21,
   "metadata": {},
   "outputs": [],
   "source": [
    "#Dependencies to Use with Code\n",
    "import pandas as pd\n",
    "import numpy as np\n",
    "import json\n",
    "import requests as req\n",
    "import requests"
   ]
  },
  {
   "cell_type": "code",
   "execution_count": null,
   "metadata": {
    "collapsed": true
   },
   "outputs": [],
   "source": []
  },
  {
   "cell_type": "code",
   "execution_count": null,
   "metadata": {},
   "outputs": [],
   "source": [
    "\n",
    "\n"
   ]
  },
  {
   "cell_type": "code",
   "execution_count": null,
   "metadata": {
    "collapsed": true
   },
   "outputs": [],
   "source": [
    "\n"
   ]
  },
  {
   "cell_type": "code",
   "execution_count": null,
   "metadata": {
    "collapsed": true
   },
   "outputs": [],
   "source": []
  },
  {
   "cell_type": "code",
   "execution_count": null,
   "metadata": {
    "collapsed": true
   },
   "outputs": [],
   "source": []
  },
  {
   "cell_type": "code",
   "execution_count": null,
   "metadata": {},
   "outputs": [],
   "source": []
  },
  {
   "cell_type": "code",
   "execution_count": null,
   "metadata": {
    "collapsed": true
   },
   "outputs": [],
   "source": []
  },
  {
   "cell_type": "code",
   "execution_count": null,
   "metadata": {},
   "outputs": [],
   "source": [
    "\n",
    "\n"
   ]
  },
  {
   "cell_type": "code",
   "execution_count": null,
   "metadata": {},
   "outputs": [],
   "source": []
  },
  {
   "cell_type": "code",
   "execution_count": 112,
   "metadata": {
    "collapsed": true
   },
   "outputs": [],
   "source": [
    "\n",
    "url = \"https://www.ncdc.noaa.gov/cdo-web/api/v2/stations?datasetid=GHCND&startdate=2015-07-01&enddate=2016-05-31&extent=40.48&extent=-74.26&extent=40.92&extent=-73.7&datatypeid=TMIN&datatypeid=TMAX&datatypeid=TAVG&datatypeid=TRCP&limit=1000&units=standard\""
   ]
  },
  {
   "cell_type": "code",
   "execution_count": 22,
   "metadata": {},
   "outputs": [
    {
     "data": {
      "text/plain": [
       "{'metadata': {'resultset': {'count': 331, 'limit': 25, 'offset': 1}},\n",
       " 'results': [{'attributes': '0,0',\n",
       "   'datatype': 'DP01',\n",
       "   'date': '2015-07-01T00:00:00',\n",
       "   'station': 'GHCND:US1NCBC0005',\n",
       "   'value': 9},\n",
       "  {'attributes': '0,0',\n",
       "   'datatype': 'DP05',\n",
       "   'date': '2015-07-01T00:00:00',\n",
       "   'station': 'GHCND:US1NCBC0005',\n",
       "   'value': 2},\n",
       "  {'attributes': '0,0',\n",
       "   'datatype': 'DP10',\n",
       "   'date': '2015-07-01T00:00:00',\n",
       "   'station': 'GHCND:US1NCBC0005',\n",
       "   'value': 2},\n",
       "  {'attributes': '0,0',\n",
       "   'datatype': 'EMXP',\n",
       "   'date': '2015-07-01T00:00:00',\n",
       "   'station': 'GHCND:US1NCBC0005',\n",
       "   'value': 315},\n",
       "  {'attributes': '0,0',\n",
       "   'datatype': 'TPCP',\n",
       "   'date': '2015-07-01T00:00:00',\n",
       "   'station': 'GHCND:US1NCBC0005',\n",
       "   'value': 1213},\n",
       "  {'attributes': '18,9',\n",
       "   'datatype': 'TSNW',\n",
       "   'date': '2015-07-01T00:00:00',\n",
       "   'station': 'GHCND:US1NCBC0005',\n",
       "   'value': 0},\n",
       "  {'attributes': '0,0',\n",
       "   'datatype': 'DP01',\n",
       "   'date': '2015-07-01T00:00:00',\n",
       "   'station': 'GHCND:US1NCBC0051',\n",
       "   'value': 6},\n",
       "  {'attributes': '0,0',\n",
       "   'datatype': 'DP05',\n",
       "   'date': '2015-07-01T00:00:00',\n",
       "   'station': 'GHCND:US1NCBC0051',\n",
       "   'value': 2},\n",
       "  {'attributes': '0,0',\n",
       "   'datatype': 'DP10',\n",
       "   'date': '2015-07-01T00:00:00',\n",
       "   'station': 'GHCND:US1NCBC0051',\n",
       "   'value': 2},\n",
       "  {'attributes': '0,0',\n",
       "   'datatype': 'EMXP',\n",
       "   'date': '2015-07-01T00:00:00',\n",
       "   'station': 'GHCND:US1NCBC0051',\n",
       "   'value': 348},\n",
       "  {'attributes': '0,0',\n",
       "   'datatype': 'MXSD',\n",
       "   'date': '2015-07-01T00:00:00',\n",
       "   'station': 'GHCND:US1NCBC0051',\n",
       "   'value': 0},\n",
       "  {'attributes': '0,0',\n",
       "   'datatype': 'TPCP',\n",
       "   'date': '2015-07-01T00:00:00',\n",
       "   'station': 'GHCND:US1NCBC0051',\n",
       "   'value': 1093},\n",
       "  {'attributes': '0,0',\n",
       "   'datatype': 'TSNW',\n",
       "   'date': '2015-07-01T00:00:00',\n",
       "   'station': 'GHCND:US1NCBC0051',\n",
       "   'value': 0},\n",
       "  {'attributes': '0,0',\n",
       "   'datatype': 'CLDD',\n",
       "   'date': '2015-07-01T00:00:00',\n",
       "   'station': 'GHCND:USW00013872',\n",
       "   'value': 2044},\n",
       "  {'attributes': '0,0',\n",
       "   'datatype': 'DP01',\n",
       "   'date': '2015-07-01T00:00:00',\n",
       "   'station': 'GHCND:USW00013872',\n",
       "   'value': 9},\n",
       "  {'attributes': '0,0',\n",
       "   'datatype': 'DP05',\n",
       "   'date': '2015-07-01T00:00:00',\n",
       "   'station': 'GHCND:USW00013872',\n",
       "   'value': 3},\n",
       "  {'attributes': '0,0',\n",
       "   'datatype': 'DP10',\n",
       "   'date': '2015-07-01T00:00:00',\n",
       "   'station': 'GHCND:USW00013872',\n",
       "   'value': 2},\n",
       "  {'attributes': '0,0',\n",
       "   'datatype': 'DT00',\n",
       "   'date': '2015-07-01T00:00:00',\n",
       "   'station': 'GHCND:USW00013872',\n",
       "   'value': 0},\n",
       "  {'attributes': '0,0',\n",
       "   'datatype': 'DT32',\n",
       "   'date': '2015-07-01T00:00:00',\n",
       "   'station': 'GHCND:USW00013872',\n",
       "   'value': 0},\n",
       "  {'attributes': '0,0',\n",
       "   'datatype': 'DT90',\n",
       "   'date': '2015-07-01T00:00:00',\n",
       "   'station': 'GHCND:USW00013872',\n",
       "   'value': 11},\n",
       "  {'attributes': '0,0',\n",
       "   'datatype': 'DX32',\n",
       "   'date': '2015-07-01T00:00:00',\n",
       "   'station': 'GHCND:USW00013872',\n",
       "   'value': 0},\n",
       "  {'attributes': '0,0',\n",
       "   'datatype': 'EMNT',\n",
       "   'date': '2015-07-01T00:00:00',\n",
       "   'station': 'GHCND:USW00013872',\n",
       "   'value': 161},\n",
       "  {'attributes': '0,0',\n",
       "   'datatype': 'EMXP',\n",
       "   'date': '2015-07-01T00:00:00',\n",
       "   'station': 'GHCND:USW00013872',\n",
       "   'value': 310},\n",
       "  {'attributes': '0,0',\n",
       "   'datatype': 'EMXT',\n",
       "   'date': '2015-07-01T00:00:00',\n",
       "   'station': 'GHCND:USW00013872',\n",
       "   'value': 344},\n",
       "  {'attributes': '0,0',\n",
       "   'datatype': 'HTDD',\n",
       "   'date': '2015-07-01T00:00:00',\n",
       "   'station': 'GHCND:USW00013872',\n",
       "   'value': 0}]}"
      ]
     },
     "execution_count": 22,
     "metadata": {},
     "output_type": "execute_result"
    }
   ],
   "source": [
    "headers = {'token': token}\n",
    "response = requests.get(url, headers = headers)\n",
    "response = response.json()\n",
    "response"
   ]
  },
  {
   "cell_type": "code",
   "execution_count": 148,
   "metadata": {},
   "outputs": [
    {
     "data": {
      "text/plain": [
       "{'metadata': {'resultset': {'offset': 1, 'count': 331, 'limit': 25}}, 'results': [{'date': '2015-07-01T00:00:00', 'datatype': 'DP01', 'station': 'GHCND:US1NCBC0005', 'attributes': '0,0', 'value': 9}, {'date': '2015-07-01T00:00:00', 'datatype': 'DP05', 'station': 'GHCND:US1NCBC0005', 'attributes': '0,0', 'value': 2}, {'date': '2015-07-01T00:00:00', 'datatype': 'DP10', 'station': 'GHCND:US1NCBC0005', 'attributes': '0,0', 'value': 2}, {'date': '2015-07-01T00:00:00', 'datatype': 'EMXP', 'station': 'GHCND:US1NCBC0005', 'attributes': '0,0', 'value': 315}, {'date': '2015-07-01T00:00:00', 'datatype': 'TPCP', 'station': 'GHCND:US1NCBC0005', 'attributes': '0,0', 'value': 1213}, {'date': '2015-07-01T00:00:00', 'datatype': 'TSNW', 'station': 'GHCND:US1NCBC0005', 'attributes': '18,9', 'value': 0}, {'date': '2015-07-01T00:00:00', 'datatype': 'DP01', 'station': 'GHCND:US1NCBC0051', 'attributes': '0,0', 'value': 6}, {'date': '2015-07-01T00:00:00', 'datatype': 'DP05', 'station': 'GHCND:US1NCBC0051', 'attributes': '0,0', 'value': 2}, {'date': '2015-07-01T00:00:00', 'datatype': 'DP10', 'station': 'GHCND:US1NCBC0051', 'attributes': '0,0', 'value': 2}, {'date': '2015-07-01T00:00:00', 'datatype': 'EMXP', 'station': 'GHCND:US1NCBC0051', 'attributes': '0,0', 'value': 348}, {'date': '2015-07-01T00:00:00', 'datatype': 'MXSD', 'station': 'GHCND:US1NCBC0051', 'attributes': '0,0', 'value': 0}, {'date': '2015-07-01T00:00:00', 'datatype': 'TPCP', 'station': 'GHCND:US1NCBC0051', 'attributes': '0,0', 'value': 1093}, {'date': '2015-07-01T00:00:00', 'datatype': 'TSNW', 'station': 'GHCND:US1NCBC0051', 'attributes': '0,0', 'value': 0}, {'date': '2015-07-01T00:00:00', 'datatype': 'CLDD', 'station': 'GHCND:USW00013872', 'attributes': '0,0', 'value': 2044}, {'date': '2015-07-01T00:00:00', 'datatype': 'DP01', 'station': 'GHCND:USW00013872', 'attributes': '0,0', 'value': 9}, {'date': '2015-07-01T00:00:00', 'datatype': 'DP05', 'station': 'GHCND:USW00013872', 'attributes': '0,0', 'value': 3}, {'date': '2015-07-01T00:00:00', 'datatype': 'DP10', 'station': 'GHCND:USW00013872', 'attributes': '0,0', 'value': 2}, {'date': '2015-07-01T00:00:00', 'datatype': 'DT00', 'station': 'GHCND:USW00013872', 'attributes': '0,0', 'value': 0}, {'date': '2015-07-01T00:00:00', 'datatype': 'DT32', 'station': 'GHCND:USW00013872', 'attributes': '0,0', 'value': 0}, {'date': '2015-07-01T00:00:00', 'datatype': 'DT90', 'station': 'GHCND:USW00013872', 'attributes': '0,0', 'value': 11}, {'date': '2015-07-01T00:00:00', 'datatype': 'DX32', 'station': 'GHCND:USW00013872', 'attributes': '0,0', 'value': 0}, {'date': '2015-07-01T00:00:00', 'datatype': 'EMNT', 'station': 'GHCND:USW00013872', 'attributes': '0,0', 'value': 161}, {'date': '2015-07-01T00:00:00', 'datatype': 'EMXP', 'station': 'GHCND:USW00013872', 'attributes': '0,0', 'value': 310}, {'date': '2015-07-01T00:00:00', 'datatype': 'EMXT', 'station': 'GHCND:USW00013872', 'attributes': '0,0', 'value': 344}, {'date': '2015-07-01T00:00:00', 'datatype': 'HTDD', 'station': 'GHCND:USW00013872', 'attributes': '0,0', 'value': 0}]}"
      ]
     },
     "execution_count": 148,
     "metadata": {},
     "output_type": "execute_result"
    }
   ],
   "source": [
    "url =\"http://www.ncdc.noaa.gov/cdo-web/api/v2/data?datasetid=GHCNDMS&locationid=ZIP:&startdate=2015-07-01&enddate=2017-05-31\"\n",
    "#url =\"http://www.ncdc.noaa.gov/cdo-web/api/v2/data?datasetid=GHCNDMS&locationid=ZIP:28801&startdate=2015-07-01&enddate=2017-05-31\"\n",
    "headers = {'token': 'GSFolnkSYeVyQXvKRaGLexSAkndVOtwv'}\n",
    "response = requests.get(url, headers = headers)\n",
    "response = response.json()\n",
    "response\n",
    "\n"
   ]
  },
  {
   "cell_type": "code",
   "execution_count": null,
   "metadata": {
    "collapsed": true
   },
   "outputs": [],
   "source": []
  }
 ],
 "metadata": {
  "kernelspec": {
   "display_name": "Python [default]",
   "language": "python",
   "name": "python3"
  },
  "language_info": {
   "codemirror_mode": {
    "name": "ipython",
    "version": 3
   },
   "file_extension": ".py",
   "mimetype": "text/x-python",
   "name": "python",
   "nbconvert_exporter": "python",
   "pygments_lexer": "ipython3",
   "version": "3.6.3"
  }
 },
 "nbformat": 4,
 "nbformat_minor": 2
}
