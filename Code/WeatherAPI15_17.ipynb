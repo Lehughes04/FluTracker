{
 "cells": [
  {
   "cell_type": "code",
   "execution_count": 45,
   "metadata": {
    "collapsed": true
   },
   "outputs": [],
   "source": [
    "#Dependencies to Use with Code\n",
    "import pandas as pd\n",
    "import numpy as np\n",
    "import json\n",
    "import requests as req\n",
    "from cdo_api_py import Client"
   ]
  },
  {
   "cell_type": "code",
   "execution_count": 85,
   "metadata": {
    "collapsed": true
   },
   "outputs": [],
   "source": [
    "from datetime import datetime\n",
    "from pprint import pprint\n",
    "token = \"GSFolnkSYeVyQXvKRaGLexSAkndVOtwv\"\n",
    "my_client = Client(token, default_units='standard', default_limit=1000)"
   ]
  },
  {
   "cell_type": "code",
   "execution_count": 102,
   "metadata": {},
   "outputs": [
    {
     "name": "stdout",
     "output_type": "stream",
     "text": [
      "{'data': 'A datum is an observed value along with any ancillary attributes at '\n",
      "         'a specific place and time.',\n",
      " 'datacategories': 'A data category is a general type of data used to group '\n",
      "                   'similar data types.',\n",
      " 'datasets': 'A dataset is the primary grouping for data at NCDC',\n",
      " 'datatypes': 'A data type is a specific type of data that is often unique to '\n",
      "              'a dataset.',\n",
      " 'locationcategories': 'A location category is a grouping of similar '\n",
      "                       'locations.',\n",
      " 'locations': 'A location is a geopolitical entity.',\n",
      " 'stations': 'A station is a any weather observing platform where data is '\n",
      "             'recorded.'}\n"
     ]
    }
   ],
   "source": [
    "#You can explore the endpoints available, either at the CDO documentation site or quickly with\n",
    "pprint(my_client.list_endpoints())\n",
    "\n"
   ]
  },
  {
   "cell_type": "code",
   "execution_count": 48,
   "metadata": {
    "collapsed": true
   },
   "outputs": [],
   "source": [
    "#At the time of writing, there are about 11 available datasets, view them with\n",
    "#pprint(my_client.list_datasets())\n"
   ]
  },
  {
   "cell_type": "code",
   "execution_count": 49,
   "metadata": {
    "collapsed": true
   },
   "outputs": [],
   "source": [
    "#There are more than 1000 datatypes, but you can see them all with\n",
    "#pprint(my_client.list_datatypes())"
   ]
  },
  {
   "cell_type": "code",
   "execution_count": 90,
   "metadata": {
    "collapsed": true
   },
   "outputs": [],
   "source": [
    "extent = {\n",
    "    \"north\": 40.92,\n",
    "    \"south\": 40.48,\n",
    "    \"east\": -73.70,\n",
    "    \"west\": -74.26,\n",
    "}\n",
    "\n",
    "startdate = datetime(2015, 7, 1)\n",
    "enddate = datetime(2016, 5, 31)\n",
    "\n",
    "datasetid='GHCND'\n",
    "datatypeid=['TMIN', 'TMAX', 'TAVG', 'TRCP']"
   ]
  },
  {
   "cell_type": "code",
   "execution_count": 109,
   "metadata": {},
   "outputs": [
    {
     "name": "stdout",
     "output_type": "stream",
     "text": [
      "https://www.ncdc.noaa.gov/cdo-web/api/v2/stations?datasetid=GHCND&startdate=2015-07-01&enddate=2016-05-31&extent=40.48&extent=-74.26&extent=40.92&extent=-73.7&token=GSFolnkSYeVyQXvKRaGLexSAkndVOtwv&datatypeid=TMIN&datatypeid=TMAX&datatypeid=TAVG&datatypeid=TRCP&limit=1000&units=standard\n",
      "Empty DataFrame\n",
      "Columns: []\n",
      "Index: []\n"
     ]
    }
   ],
   "source": [
    "stations = my_client.find_stations(\n",
    "    token=token,\n",
    "    datasetid=datasetid,\n",
    "    extent=extent,\n",
    "    startdate=startdate,\n",
    "    enddate=enddate,\n",
    "    datatypeid=datatypeid,\n",
    "    return_dataframe=True)\n",
    "pprint(stations)"
   ]
  },
  {
   "cell_type": "code",
   "execution_count": 50,
   "metadata": {
    "collapsed": true
   },
   "outputs": [],
   "source": [
    "# datasetid='GSOM'\n",
    "# datatypeid=['TMIN', 'TMAX', 'TAVG', 'TPCP']\n",
    "# stationid=['US1NYKN0003']\n",
    "# startdate = datetime(2015, 7, 1)\n",
    "# enddate = datetime(2017, 5, 31)"
   ]
  },
  {
   "cell_type": "code",
   "execution_count": 84,
   "metadata": {},
   "outputs": [
    {
     "name": "stdout",
     "output_type": "stream",
     "text": [
      "https://www.ncdc.noaa.gov/cdo-web/api/v2/data?datasetid=GHCND&startdate=2015-07-01&enddate=2016-06-30&stationid=US1NYKN0003&limit=1000&units=standard\n",
      "https://www.ncdc.noaa.gov/cdo-web/api/v2/data?datasetid=GHCND&startdate=2016-06-30&enddate=2017-05-31&stationid=US1NYKN0003&limit=1000&units=standard\n"
     ]
    }
   ],
   "source": [
    "\n",
    "\n",
    "#print(my_client.list_datatypes())\n",
    "station_data = my_client.get_data_by_station(datasetid=datasetid, stationid=stationid, startdate=startdate, enddate=enddate, return_dataframe=True)\n",
    "#print(station_data)"
   ]
  },
  {
   "cell_type": "code",
   "execution_count": 108,
   "metadata": {},
   "outputs": [
    {
     "ename": "NameError",
     "evalue": "name 'data' is not defined",
     "output_type": "error",
     "traceback": [
      "\u001b[1;31m---------------------------------------------------------------------------\u001b[0m",
      "\u001b[1;31mNameError\u001b[0m                                 Traceback (most recent call last)",
      "\u001b[1;32m<ipython-input-108-9838ddcfb054>\u001b[0m in \u001b[0;36m<module>\u001b[1;34m()\u001b[0m\n\u001b[0;32m      6\u001b[0m     \u001b[0murl\u001b[0m \u001b[1;33m=\u001b[0m \u001b[0murlstart\u001b[0m \u001b[1;33m+\u001b[0m \u001b[0mstr\u001b[0m\u001b[1;33m(\u001b[0m\u001b[0mgooddate\u001b[0m\u001b[1;33m)\u001b[0m \u001b[1;33m+\u001b[0m \u001b[0murlend\u001b[0m\u001b[1;33m\u001b[0m\u001b[0m\n\u001b[0;32m      7\u001b[0m     \u001b[0mdata\u001b[0m \u001b[1;33m=\u001b[0m \u001b[0mrequests\u001b[0m\u001b[1;33m.\u001b[0m\u001b[0mget\u001b[0m\u001b[1;33m(\u001b[0m\u001b[0murl\u001b[0m\u001b[1;33m)\u001b[0m\u001b[1;33m.\u001b[0m\u001b[0mjson\u001b[0m\u001b[1;33m(\u001b[0m\u001b[1;33m)\u001b[0m\u001b[1;33m\u001b[0m\u001b[0m\n\u001b[1;32m----> 8\u001b[1;33m \u001b[0mprint\u001b[0m\u001b[1;33m(\u001b[0m\u001b[0mdata\u001b[0m\u001b[1;33m)\u001b[0m\u001b[1;33m\u001b[0m\u001b[0m\n\u001b[0m\u001b[0;32m      9\u001b[0m \u001b[1;31m#     for summary in data['history']['dailysummary']:\u001b[0m\u001b[1;33m\u001b[0m\u001b[1;33m\u001b[0m\u001b[0m\n\u001b[0;32m     10\u001b[0m \u001b[1;31m#         print ','.join((gooddate, summary['date']['year'], summary['date']['mon'], summary['date']['mday'], summary['precipm'], summary['maxtempm'], summary['meantempm'], summary['mintempm']))\u001b[0m\u001b[1;33m\u001b[0m\u001b[1;33m\u001b[0m\u001b[0m\n",
      "\u001b[1;31mNameError\u001b[0m: name 'data' is not defined"
     ]
    }
   ],
   "source": [
    "import requests\n",
    "def get_precip(gooddate):\n",
    "    urlstart = 'http://api.wunderground.com/api/5c63507ef22c456c/history_'\n",
    "    urlend = '/q/Switzerland/Zurich.json'\n",
    "\n",
    "    url = urlstart + str(gooddate) + urlend\n",
    "    data = requests.get(url).json()\n",
    "\n",
    "#     for summary in data['history']['dailysummary']:\n",
    "#         print ','.join((gooddate, summary['date']['year'], summary['date']['mon'], summary['date']['mday'], summary['precipm'], summary['maxtempm'], summary['meantempm'], summary['mintempm']))\n",
    "\n",
    "# if __name__ == \"__main__\":\n",
    "#     from datetime import date\n",
    "#     from dateutil.rrule import rrule, DAILY\n",
    "\n",
    "#     a = date(2013, 1, 1)\n",
    "#     b = date(2013, 12, 31)\n",
    "\n",
    "#     for dt in rrule(DAILY, dtstart=a, until=b):\n",
    "#         get_precip(dt.strftime(\"%Y%m%d\"))"
   ]
  },
  {
   "cell_type": "code",
   "execution_count": 112,
   "metadata": {
    "collapsed": true
   },
   "outputs": [],
   "source": [
    "\n",
    "url = \"https://www.ncdc.noaa.gov/cdo-web/api/v2/stations?datasetid=GHCND&startdate=2015-07-01&enddate=2016-05-31&extent=40.48&extent=-74.26&extent=40.92&extent=-73.7&datatypeid=TMIN&datatypeid=TMAX&datatypeid=TAVG&datatypeid=TRCP&limit=1000&units=standard\""
   ]
  },
  {
   "cell_type": "code",
   "execution_count": 115,
   "metadata": {},
   "outputs": [
    {
     "data": {
      "text/plain": [
       "{}"
      ]
     },
     "execution_count": 115,
     "metadata": {},
     "output_type": "execute_result"
    }
   ],
   "source": [
    "headers = {'token': token}\n",
    "response = requests.get(url, headers = headers)\n",
    "response = response.json()\n",
    "response"
   ]
  },
  {
   "cell_type": "code",
   "execution_count": 144,
   "metadata": {},
   "outputs": [
    {
     "data": {
      "text/plain": [
       "{}"
      ]
     },
     "execution_count": 144,
     "metadata": {},
     "output_type": "execute_result"
    }
   ],
   "source": [
    "url =\"http://www.ncdc.noaa.gov/cdo-web/api/v2/data?datasetid=GHCNDMS&stationid=ZIP:11205&startdate=2015-07-01&enddate=2017-05-31\"\n",
    "#url =\"http://www.ncdc.noaa.gov/cdo-web/api/v2/data?datasetid=GHCNDMS&locationid=ZIP:28801&startdate=2015-07-01&enddate=2017-05-31\"\n",
    "headers = {'token': 'GSFolnkSYeVyQXvKRaGLexSAkndVOtwv'}\n",
    "response = requests.get(url, headers = headers)\n",
    "response = response.json()\n",
    "response"
   ]
  },
  {
   "cell_type": "code",
   "execution_count": null,
   "metadata": {
    "collapsed": true
   },
   "outputs": [],
   "source": []
  }
 ],
 "metadata": {
  "kernelspec": {
   "display_name": "Python 3",
   "language": "python",
   "name": "python3"
  },
  "language_info": {
   "codemirror_mode": {
    "name": "ipython",
    "version": 3
   },
   "file_extension": ".py",
   "mimetype": "text/x-python",
   "name": "python",
   "nbconvert_exporter": "python",
   "pygments_lexer": "ipython3",
   "version": "3.6.2"
  }
 },
 "nbformat": 4,
 "nbformat_minor": 2
}
